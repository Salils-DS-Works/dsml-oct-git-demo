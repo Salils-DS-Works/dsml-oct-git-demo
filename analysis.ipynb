{
 "cells": [
  {
   "cell_type": "code",
   "execution_count": null,
   "metadata": {},
   "outputs": [],
   "source": [
    "import pandas as pd"
   ]
  }
 ],
 "metadata": {
  "kernelspec": {
   "display_name": "Python 3.10.2 64-bit",
   "language": "python",
   "name": "python3"
  },
  "language_info": {
   "name": "python",
   "version": "3.10.2"
  },
  "orig_nbformat": 4,
  "vscode": {
   "interpreter": {
    "hash": "6555c259f09b2109f34c85c21f0d85730bd84532f01151ab250dad806d7b878f"
   }
  }
 },
 "nbformat": 4,
 "nbformat_minor": 2
}
